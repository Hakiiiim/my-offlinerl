{
 "cells": [
  {
   "cell_type": "code",
   "execution_count": 43,
   "metadata": {},
   "outputs": [],
   "source": [
    "import numpy as np\n",
    "from loguru import logger\n",
    "from batchrl.utils.data import SampleBatch\n",
    "\n",
    "def load_revive_buffer(data_dir):\n",
    "    data = np.load(data_dir)\n",
    "    \n",
    "    buffer = SampleBatch(\n",
    "        obs = data[\"obs\"],\n",
    "        obs_next = data[\"next_obs\"],\n",
    "        act = data[\"action1\"],\n",
    "        rew = data[\"action2\"],\n",
    "        done = data[\"done\"],\n",
    "        )\n",
    "    \n",
    "    buffer.done[buffer.rew < np.sort(buffer.rew.reshape(-1))[int(len(buffer)*0.01)]] = 1\n",
    "    \n",
    "    logger.info('Number of terminals on: {}', np.sum(buffer.done))\n",
    "    \n",
    "    \n",
    "    return buffer"
   ]
  },
  {
   "cell_type": "code",
   "execution_count": 44,
   "metadata": {},
   "outputs": [
    {
     "name": "stdout",
     "output_type": "stream",
     "text": [
      "\u001b[32m2020-12-08 at 20:42:38.298\u001b[0m | \u001b[34mINFO\u001b[0m | Number of terminals on: 1089.0\n"
     ]
    }
   ],
   "source": [
    "data = load_revive_buffer(\"/home/revive/syg/datasets/revive/HalfCheetah-v3-low-99-train.npz\")"
   ]
  },
  {
   "cell_type": "code",
   "execution_count": 36,
   "metadata": {},
   "outputs": [
    {
     "data": {
      "text/plain": [
       "0.6263978"
      ]
     },
     "execution_count": 36,
     "metadata": {},
     "output_type": "execute_result"
    }
   ],
   "source": [
    "np.sort(data.rew.reshape(-1))[int(len(data)*0.01)]"
   ]
  },
  {
   "cell_type": "code",
   "execution_count": 37,
   "metadata": {},
   "outputs": [],
   "source": [
    "data.done[data.rew < np.sort(data.rew.reshape(-1))[int(len(data)*0.01)]] = 1"
   ]
  },
  {
   "cell_type": "code",
   "execution_count": 38,
   "metadata": {},
   "outputs": [
    {
     "data": {
      "text/plain": [
       "1043.0"
      ]
     },
     "execution_count": 38,
     "metadata": {},
     "output_type": "execute_result"
    }
   ],
   "source": [
    "np.sum(data.done)"
   ]
  },
  {
   "cell_type": "code",
   "execution_count": null,
   "metadata": {},
   "outputs": [],
   "source": []
  }
 ],
 "metadata": {
  "kernelspec": {
   "display_name": "Python 3",
   "language": "python",
   "name": "python3"
  },
  "language_info": {
   "codemirror_mode": {
    "name": "ipython",
    "version": 3
   },
   "file_extension": ".py",
   "mimetype": "text/x-python",
   "name": "python",
   "nbconvert_exporter": "python",
   "pygments_lexer": "ipython3",
   "version": "3.8.5"
  }
 },
 "nbformat": 4,
 "nbformat_minor": 4
}
